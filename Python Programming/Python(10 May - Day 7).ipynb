{
 "cells": [
  {
   "cell_type": "markdown",
   "metadata": {},
   "source": [
    "# Programming and Problem Solving\n",
    "### Day No - 7\n",
    "### Date - 10 May 2019"
   ]
  },
  {
   "cell_type": "markdown",
   "metadata": {},
   "source": [
    "# Day Outcomes\n",
    ">1. To identify unique elements in the given list\n",
    ">2. To sort a given list of elements\n",
    ">3. To understand recursion concepts\n",
    ">4. To solve leap year and date format problems"
   ]
  },
  {
   "cell_type": "markdown",
   "metadata": {},
   "source": [
    "#  "
   ]
  },
  {
   "cell_type": "markdown",
   "metadata": {},
   "source": [
    "# Problem 1: \n",
    "### Problem Statement: Design a procedure to identify all unique elements in an array\n",
    "#### Test cases:\n",
    ">* uniqueElements([1, 2, 3, 4, 3, 2, 1, 0, 0]) -> [1, 2, 3, 4, 0]\n",
    "* uniqueElements([9]) -> [9]"
   ]
  },
  {
   "cell_type": "code",
   "execution_count": 1,
   "metadata": {},
   "outputs": [
    {
     "data": {
      "text/plain": [
       "[2, 1, 3, 4, 0]"
      ]
     },
     "execution_count": 1,
     "metadata": {},
     "output_type": "execute_result"
    }
   ],
   "source": [
    "def linearSearch(ulist1, key):\n",
    "    boolean = False\n",
    "    for i in range(0, len(ulist1)):\n",
    "        if(ulist1[i] == key):\n",
    "            return True\n",
    "    return False\n",
    "\n",
    "def uniqueElements(list1):\n",
    "    ulist1 = []\n",
    "    ulist1.append(list1[1])\n",
    "    for i in range(0, len(list1)):\n",
    "        if((linearSearch(ulist1, list1[i]) == False)): \n",
    "            ulist1.append(list1[i])\n",
    "    return ulist1\n",
    "\n",
    "uniqueElements([1, 2, 3, 4, 3, 2, 1, 0, 0])"
   ]
  },
  {
   "cell_type": "markdown",
   "metadata": {},
   "source": [
    "#  "
   ]
  },
  {
   "cell_type": "markdown",
   "metadata": {},
   "source": [
    "# Problem 2: \n",
    "### Problem Statement: Find square root of a number without using any predefined function\n",
    "#### Test cases:\n",
    ">* squareRoot(9) -> 3\n",
    "* squareRoot(7) -> 2.6457513110645907"
   ]
  },
  {
   "cell_type": "code",
   "execution_count": 2,
   "metadata": {},
   "outputs": [
    {
     "data": {
      "text/plain": [
       "2.6457513110645907"
      ]
     },
     "execution_count": 2,
     "metadata": {},
     "output_type": "execute_result"
    }
   ],
   "source": [
    "def squareRoot(n):\n",
    "    return n**(0.5)\n",
    "squareRoot(7)"
   ]
  },
  {
   "cell_type": "markdown",
   "metadata": {},
   "source": [
    "#  "
   ]
  },
  {
   "cell_type": "markdown",
   "metadata": {},
   "source": [
    "# Problem 3: \n",
    "### Problem Statement: Design a procedure to sort a given array in ascending order\n",
    "#### Test cases:\n",
    ">* sort([3, 2, 1, 4, 4, 5, 6]) -> [1, 2, 3, 4, 4, 5, 6]\n",
    "* sort([1, 2, 3]) -> [1, 2, 3]"
   ]
  },
  {
   "cell_type": "code",
   "execution_count": 3,
   "metadata": {},
   "outputs": [
    {
     "data": {
      "text/plain": [
       "[1, 2, 3, 4, 4, 5, 6]"
      ]
     },
     "execution_count": 3,
     "metadata": {},
     "output_type": "execute_result"
    }
   ],
   "source": [
    "def sortElements(list1):\n",
    "    for i in range(0, len(list1)-1):\n",
    "        for j in range(0, len(list1)-i-1):\n",
    "            if(list1[j] > list1[j+1]):\n",
    "                temp = list1[j]\n",
    "                list1[j] = list1[j+1]\n",
    "                list1[j+1] = temp\n",
    "    return list1\n",
    "\n",
    "sortElements([3, 2, 1, 4, 4, 5, 6])"
   ]
  },
  {
   "cell_type": "markdown",
   "metadata": {},
   "source": [
    "#  "
   ]
  },
  {
   "cell_type": "markdown",
   "metadata": {},
   "source": [
    "# Recursion\n",
    ">* Function calling itself\n",
    "* Breakdown a complex problem into sub problems of lower complexity and keep repeating this process until we reach the possible subproblem to which we know the solution\n",
    "\n",
    "* power of a number\n",
    "* Towers of Hanoi\n",
    "* Fiboanacci series\n",
    "* Factorial\n",
    "* GCD\n",
    "* Merge sort\n",
    "* Binary Search\n",
    "* Any problem with iteration\n",
    "\n",
    "\n",
    "## Recursive power\n",
    "\n",
    "<p>n ^ r</p>\n",
    "<p>n ^ r-1 * n</p>\n",
    "<p>n ^ r-2 * n * n</p>\n",
    "\n",
    "<p>keep repeating until r = 1, n = n, return n</p>\n",
    "\n",
    "<p>2 ^ 3</p>\n",
    "<p>2 ^ 2 * 2</p>\n",
    "<p>2 ^ 1 * 2 * 2</p>\n",
    "\n",
    "\n",
    "<p>Recursive Function:</p>\n",
    "<p>Base Condition</p>\n",
    "  \n",
    "<p>Recursive Call(reduced Parameter Complexity)</p>\n",
    "\n",
    "## Iterative GCD\n",
    "\n",
    "<p>a, b</p>\n",
    "<p>12, 42</p>\n",
    "<p>42 % 12 = 6 -- GCD </p>\n",
    " \n",
    "<p>(if a>b) </p>\n",
    " \n",
    "<p>r =  b % a</p>\n",
    "<p>b = a</p>\n",
    "<p>a = r</p>\n",
    "<p>break loop if r = 0</p>\n",
    "<p>b --> GCD</p>\n",
    " "
   ]
  },
  {
   "cell_type": "markdown",
   "metadata": {},
   "source": [
    "# Problem 4: \n",
    "### Problem Statement:  Recursive function to find 'n' raised to power 'r'\n",
    "#### Test cases:\n",
    ">* recursivePower(2, 3) -> 8\n",
    "* recursivePower(3, 3) -> 27"
   ]
  },
  {
   "cell_type": "code",
   "execution_count": 4,
   "metadata": {},
   "outputs": [
    {
     "data": {
      "text/plain": [
       "8"
      ]
     },
     "execution_count": 4,
     "metadata": {},
     "output_type": "execute_result"
    }
   ],
   "source": [
    "def recursivePower(n, r):\n",
    "    if r == 1:\n",
    "        return n\n",
    "    else:\n",
    "        return(recursivePower(n, r-1) * n)\n",
    "recursivePower(2, 3)    "
   ]
  },
  {
   "cell_type": "markdown",
   "metadata": {},
   "source": [
    "#  "
   ]
  },
  {
   "cell_type": "markdown",
   "metadata": {},
   "source": [
    "# Problem 5: \n",
    "### Problem Statement:  Recursive function to find factorial of a given number\n",
    "#### Test cases:\n",
    ">* recursiveFactorial(4) -> 24\n",
    "* recursivePower(6) -> 720"
   ]
  },
  {
   "cell_type": "code",
   "execution_count": 5,
   "metadata": {},
   "outputs": [
    {
     "data": {
      "text/plain": [
       "720"
      ]
     },
     "execution_count": 5,
     "metadata": {},
     "output_type": "execute_result"
    }
   ],
   "source": [
    "def recursiveFactorial(n):\n",
    "    if(n == 0):\n",
    "        return 1\n",
    "    else:\n",
    "        return(recursiveFactorial(n-1) * n) \n",
    "recursiveFactorial(6)"
   ]
  },
  {
   "cell_type": "markdown",
   "metadata": {},
   "source": [
    "#  "
   ]
  },
  {
   "cell_type": "markdown",
   "metadata": {},
   "source": [
    "# Problem 6: \n",
    "### Problem Statement:  Recursive function to generate the nth Fibonacci number\n",
    "#### Test cases:\n",
    ">* recursiveFibonacci(5) -> 5\n",
    "#### Explanation:\n"
   ]
  },
  {
   "cell_type": "code",
   "execution_count": 7,
   "metadata": {},
   "outputs": [
    {
     "data": {
      "text/plain": [
       "2"
      ]
     },
     "execution_count": 7,
     "metadata": {},
     "output_type": "execute_result"
    }
   ],
   "source": [
    "def recursivefibonacci(n):\n",
    "    if(n == 0):\n",
    "        return 0\n",
    "    if(n == 1):\n",
    "        return 1\n",
    "    else:\n",
    "        return(recursivefibonacci(n-2) + recursivefibonacci(n-1))\n",
    "\n",
    "recursivefibonacci(3)"
   ]
  },
  {
   "cell_type": "markdown",
   "metadata": {},
   "source": [
    "#  "
   ]
  },
  {
   "cell_type": "markdown",
   "metadata": {},
   "source": [
    "# Problem 7: \n",
    "### Problem Statement:  Recursive function to find GCD of 2 numbers\n",
    "#### Test cases:\n",
    ">* recursiveGCD(12, 42) -> 6\n",
    "* recursiveGCD(12, 39) -> "
   ]
  },
  {
   "cell_type": "code",
   "execution_count": 7,
   "metadata": {},
   "outputs": [
    {
     "data": {
      "text/plain": [
       "3"
      ]
     },
     "execution_count": 7,
     "metadata": {},
     "output_type": "execute_result"
    }
   ],
   "source": [
    "# GCD of two numbers remains same when smaller parameter is reduced to the remainder \n",
    "# and the larger parameter is replced by samller parameter\n",
    "# GCD(a, b) = GCD(b % a, a)\n",
    "\n",
    "def recursiveGCD(a, b):\n",
    "    if(b % a == 0):\n",
    "        return a\n",
    "    else:\n",
    "        return(recursiveGCD(b % a, a))\n",
    "    \n",
    "recursiveGCD(12, 39)"
   ]
  },
  {
   "cell_type": "code",
   "execution_count": 8,
   "metadata": {},
   "outputs": [
    {
     "data": {
      "text/plain": [
       "1"
      ]
     },
     "execution_count": 8,
     "metadata": {},
     "output_type": "execute_result"
    }
   ],
   "source": [
    "# iterative solution\n",
    "\n",
    "def iterativeGCD(a, b):\n",
    "    r = b % a\n",
    "    if(r == 0):\n",
    "        return a\n",
    "    while(r != 0):\n",
    "        r = b % a\n",
    "        b = a\n",
    "        a = r       \n",
    "    return b\n",
    "\n",
    "iterativeGCD(7, 72)"
   ]
  },
  {
   "cell_type": "markdown",
   "metadata": {},
   "source": [
    "#   "
   ]
  },
  {
   "cell_type": "markdown",
   "metadata": {},
   "source": [
    "# Problem 8: \n",
    "### Problem Statement:  Recursive function towers of hanoi\n",
    "#### Explanation\n",
    ">n disks --> * move n-1 disks from source to temp\n",
    "            * move nth disk from source to destination\n",
    "            * move n-1 disks from temp to destination\n",
    " 3 disks --> * move 2 disks from source to temp\n",
    "            * move 3rd disk from source to destination\n",
    "            * move 2 disks from temp to destination"
   ]
  },
  {
   "cell_type": "code",
   "execution_count": 9,
   "metadata": {},
   "outputs": [
    {
     "name": "stdout",
     "output_type": "stream",
     "text": [
      "Move disk  1  from  A  to  C\n",
      "Move disk  2  from  A  to  B\n",
      "Move disk  1  from  C  to  B\n",
      "Move disk  3  from  A  to  C\n",
      "Move disk  1  from  B  to  A\n",
      "Move disk  2  from  B  to  C\n",
      "Move disk  1  from  A  to  C\n"
     ]
    }
   ],
   "source": [
    "#recursion\n",
    "\n",
    "def towerOfHanoi(n, source, temp, dest):\n",
    "    if(n == 1):\n",
    "        print(\"Move disk \", n, \" from \", source, \" to \", dest)\n",
    "        return\n",
    "    else:\n",
    "        towerOfHanoi(n - 1, source, dest, temp)\n",
    "        print(\"Move disk \", n, \" from \", source, \" to \", dest)\n",
    "        towerOfHanoi(n-1, temp, source, dest)\n",
    "        return\n",
    "    \n",
    "towerOfHanoi(3, 'A', 'B', 'C')"
   ]
  },
  {
   "cell_type": "markdown",
   "metadata": {},
   "source": [
    "#  "
   ]
  },
  {
   "cell_type": "markdown",
   "metadata": {},
   "source": [
    "# Problem 9: \n",
    "### Problem Statement:  Define a function to identity the number of times a substring is repeating in a given string\n",
    "#### Test cases:\n",
    ">* substringCount('str', 'substr') -> 1\n",
    "* substringCount('1234567891122334455', '3') -> 3\n",
    "* substringCount('abccddccc', 'cc') -> 3\n",
    "* substringCount('aaaaaaa', 'aaa') -> 5"
   ]
  },
  {
   "cell_type": "code",
   "execution_count": 10,
   "metadata": {},
   "outputs": [
    {
     "data": {
      "text/plain": [
       "1"
      ]
     },
     "execution_count": 10,
     "metadata": {},
     "output_type": "execute_result"
    }
   ],
   "source": [
    "def substringCount(str1, str2):\n",
    "    count = 0\n",
    "    if(len(str1) <= len(str2)):\n",
    "        substr = str1\n",
    "        mainstr = str2\n",
    "        j = len(substr)\n",
    "    else:\n",
    "        substr = str2\n",
    "        mainstr = str1\n",
    "        j = len(substr)\n",
    "        \n",
    "    for i in range(0, len(mainstr)):\n",
    "        if(mainstr[i:j] == substr):\n",
    "            count += 1\n",
    "        j += 1\n",
    "    return count\n",
    "\n",
    "substringCount('str', 'substr')\n",
    "#substringCount('aaaaaaa', 'aaa')\n",
    "#substringCount('1234567891122334455', '3')\n",
    "#substringCount('abccddccc', 'cc')"
   ]
  },
  {
   "cell_type": "markdown",
   "metadata": {},
   "source": [
    "#  "
   ]
  },
  {
   "cell_type": "markdown",
   "metadata": {},
   "source": [
    "# Problem 10: \n",
    "### Problem Statement: Define a function to merge the characters of two strings alternatively. The remaining characters of the longer string are printed in the same order at the end.\n",
    "#### Test cases:\n",
    ">* mergeString('abcd', 'abcd') -> 'aabbccdd'\n",
    "* mergeString('abc', '123456') -> 'a1b2c3456'\n",
    "* mergeString('0', '123456') -> '0123456'"
   ]
  },
  {
   "cell_type": "code",
   "execution_count": 11,
   "metadata": {},
   "outputs": [
    {
     "data": {
      "text/plain": [
       "'a1b2c3def'"
      ]
     },
     "execution_count": 11,
     "metadata": {},
     "output_type": "execute_result"
    }
   ],
   "source": [
    "def mergeString(str1, str2):\n",
    "    string = ''\n",
    "    if(len(str1) <= len(str2)):\n",
    "        length = len(str1)\n",
    "        mainstr = str2\n",
    "    else:\n",
    "        length = len(str2)\n",
    "        mainstr = str1\n",
    "        \n",
    "    for i in range(0, length):\n",
    "        string = string + str1[i] + str2[i]\n",
    "   \n",
    "    for i in range(length, len(mainstr)):\n",
    "        string = string + mainstr[i]\n",
    "    return string\n",
    "\n",
    "mergeString('abcdef', '123')"
   ]
  },
  {
   "cell_type": "markdown",
   "metadata": {},
   "source": [
    "#  "
   ]
  },
  {
   "cell_type": "markdown",
   "metadata": {},
   "source": [
    "# Problem 11:\n",
    "### Problem Statement: Define a function to convert a binary number to the corresponding decimal number\n",
    "#### Test cases:\n",
    ">* binaryToDecimal(1100) -> 12\n",
    "* binaryToDecimal(1010) -> 10\n",
    "* binaryToDecimal(111000) -> 56"
   ]
  },
  {
   "cell_type": "code",
   "execution_count": 12,
   "metadata": {},
   "outputs": [
    {
     "data": {
      "text/plain": [
       "255"
      ]
     },
     "execution_count": 12,
     "metadata": {},
     "output_type": "execute_result"
    }
   ],
   "source": [
    "def binaryToDecimal(binary):\n",
    "    dec = 0\n",
    "    i = 0\n",
    "    while(binary != 0):\n",
    "        digit = int(binary % 10)\n",
    "        if(digit == 1):\n",
    "            dec += digit * (2**i)\n",
    "            i += 1\n",
    "            binary = int(binary/10)\n",
    "        else:\n",
    "            return -1\n",
    "    return dec\n",
    "\n",
    "binaryToDecimal(11111111)"
   ]
  },
  {
   "cell_type": "markdown",
   "metadata": {},
   "source": [
    "#  "
   ]
  },
  {
   "cell_type": "markdown",
   "metadata": {},
   "source": [
    "# Problem 12:\n",
    "### Problem Statement: Define a function to convert a decimal number to the corresponding binary number\n",
    "#### Test cases:\n",
    ">* decimalToBinary(15) -> 1111\n",
    "* decimalToBinary(1) -> 1"
   ]
  },
  {
   "cell_type": "code",
   "execution_count": 22,
   "metadata": {},
   "outputs": [
    {
     "name": "stdout",
     "output_type": "stream",
     "text": [
      "1111"
     ]
    }
   ],
   "source": [
    "# recursive method\n",
    "\n",
    "def decimalToBinary(dec):\n",
    "    if(dec == 0):\n",
    "        return 0\n",
    "    else:\n",
    "        r = int(dec % 2)\n",
    "        q = int(dec / 2)\n",
    "        print(r, end= '')\n",
    "        decimalToBinary(q)\n",
    "               \n",
    "decimalToBinary(15)        "
   ]
  },
  {
   "cell_type": "markdown",
   "metadata": {},
   "source": [
    "#  "
   ]
  },
  {
   "cell_type": "markdown",
   "metadata": {},
   "source": [
    "# Problem 13:\n",
    "### Problem Statement: Design a Python script to determine the difference in date for given two dates in YYYY:MM:DD format (0 <= YYYY <= 9999, 1 <= MM <= 12, 1 <= DD <= 31) following the leap year rules.\n",
    "#### Test cases:\n",
    ">* dateDifference('2019:05:10', '2019:05:01') -> '0000:00:09'\n",
    "* dateDifference('0003:03:03', '0003:06:06') -> 95\n",
    "* dateDifference('0001:03:27', '0001:06:0603') -> 68\n",
    "#### Explanation:\n",
    ">calculate the month difference and "
   ]
  },
  {
   "cell_type": "code",
   "execution_count": 11,
   "metadata": {},
   "outputs": [
    {
     "data": {
      "text/plain": [
       "116"
      ]
     },
     "execution_count": 11,
     "metadata": {},
     "output_type": "execute_result"
    }
   ],
   "source": [
    "def leapYear(year):\n",
    "    if (year % 4 != 0):\n",
    "        return False   \n",
    "    elif(year % 100 != 0):\n",
    "        return True\n",
    "    elif(year % 400 == 0):\n",
    "        return True\n",
    "    else:\n",
    "        return False\n",
    "\n",
    "def dateDifference(str1,str2):\n",
    "    y1 = int(str1[0:4])\n",
    "    m1 = int(str1[5:7])\n",
    "    d1 = int(str1[8:10])\n",
    "    y2 = int(str2[0:4])\n",
    "    m2 = int(str2[5:7])\n",
    "    d2 = int(str2[8:10])\n",
    "    diff = 0\n",
    "    diff += abs(y1-y2)*365\n",
    "    diff += abs(m1-m2)*30\n",
    "    diff += abs(d1-d2)\n",
    "    if y1!=y2:\n",
    "        for n in range(y1, y2+1):\n",
    "            if(leapYear(n)):\n",
    "                dif += 1\n",
    "    if m1!=m2:\n",
    "        for n in range(m1, m2+1):\n",
    "            if(int(n) in [1,3,5,7,8,10,12]):\n",
    "                diff += 1\n",
    "            elif n==2:\n",
    "                diff -= 1\n",
    "    return diff\n",
    "\n",
    "dateDifference('0001:03:27', '0001:06:03')"
   ]
  },
  {
   "cell_type": "code",
   "execution_count": 74,
   "metadata": {},
   "outputs": [
    {
     "data": {
      "text/plain": [
       "759"
      ]
     },
     "execution_count": 74,
     "metadata": {},
     "output_type": "execute_result"
    }
   ],
   "source": [
    "def dateDifference(date1, date2):\n",
    "    if(yearFromDate(date1) == yearFromDate(date2)):   \n",
    "        return abs(totalDaysDate(date1) - totalDaysDate(date2))\n",
    "    elif(yearFromDate(date2) - yearFromDate(date1) == 1):\n",
    "        return totalDaysDateEndYear(date1) + totalDaysDate(date2)\n",
    "    else:\n",
    "        sum = totalDaysDateEndYear(date1) + totalDaysDate(date2)\n",
    "        year1 = yearFromDate(date1)\n",
    "        year2 = yearFromDate(date2)\n",
    "        for i in range(year1+1, year2):\n",
    "            sum += numDaysInYear(i)\n",
    "        return sum\n",
    "\n",
    "\n",
    "# this function returns total number of days in february\n",
    "def numDaysInFeb(year):\n",
    "    '''\n",
    "      import calendar\n",
    "      return calendar.isLeap(year)    \n",
    "    '''\n",
    "    if((year % 400 == 0) or (year % 100 != 0 and year % 4 == 0)):\n",
    "        return 29   \n",
    "    return 28\n",
    "\n",
    "\n",
    "# this function returns the total number of days in a given month   \n",
    "def numDaysInMonth(month, year):\n",
    "    #monthDays = {'01':31, '03':31, '04': 30, '05': 31, '06': 30, '07': 31, '08':31, '09':30, '10':31, '11':30, '12':31}\n",
    "    if(month == 2):\n",
    "        return daysInFeb(year)\n",
    "    elif((month <= 7 and month != 2 and month % 2 == 0) or (month > 7 and month % 2 != 0)):\n",
    "        return 30\n",
    "    else:\n",
    "        return 31\n",
    "    \n",
    "    \n",
    "# this function returns the total number of days in a given year \n",
    "def numDaysInYear(year):\n",
    "    if(daysInFeb(year) == 29):\n",
    "        return 366\n",
    "    return 365\n",
    " \n",
    "    \n",
    "# this function returns the total num of days completed till the given date    \n",
    "def totalDaysDate(date):\n",
    "    year = yearFromDate(date) # extr\n",
    "    month =  monthFromDate(date)\n",
    "    day = daysFromDate(date)\n",
    "    sum = 0\n",
    "    for i in range(1, month):\n",
    "        sum += numDaysInMonth(i, year)\n",
    "    sum += day\n",
    "    return sum\n",
    "\n",
    "\n",
    "def totalDaysDateEndYear(date):\n",
    "    year = yearFromDate(date) # extr\n",
    "    month =  monthFromDate(date)\n",
    "    day = daysFromDate(date)\n",
    "    sum = 0\n",
    "    for i in range(month+1, 13):\n",
    "        sum += numDaysInMonth(i, year)\n",
    "    #sum += day\n",
    "    sum += (numDaysInMonth(month, year) - day + 1)\n",
    "    return sum\n",
    "\n",
    "def yearFromDate(date): \n",
    "    return int(date[:4])\n",
    "                          \n",
    "def monthFromDate(date):\n",
    "    return int(date[5:7])\n",
    "\n",
    "def daysFromDate(date):\n",
    "    return int(date[len(date)-2:])\n",
    "\n",
    "               \n",
    "dateDifference('0001:01:31', '0003:02:28')\n",
    "#totalDaysDateEndYear('0001:01:31')\n"
   ]
  },
  {
   "cell_type": "code",
   "execution_count": 77,
   "metadata": {},
   "outputs": [
    {
     "data": {
      "text/plain": [
       "758"
      ]
     },
     "execution_count": 77,
     "metadata": {},
     "output_type": "execute_result"
    }
   ],
   "source": [
    "# another approach\n",
    "\n",
    "from datetime import date\n",
    "def dateDifference(str1, str2):\n",
    "    y1 = int(str1[0:4])\n",
    "    m1 = int(str1[5:7])\n",
    "    d1 = int(str1[8:10])\n",
    "    y2 = int(str2[0:4])\n",
    "    m2 = int(str2[5:7])\n",
    "    d2 = int(str2[8:10])\n",
    "    m = date(y1, m1, d1)\n",
    "    n = date(y2, m2, d2)\n",
    "    diff = abs(m-n)\n",
    "    return(diff.days)\n",
    "dateDifference('0001:01:31', '0003:02:28')"
   ]
  },
  {
   "cell_type": "markdown",
   "metadata": {},
   "source": [
    "#  "
   ]
  },
  {
   "cell_type": "markdown",
   "metadata": {},
   "source": [
    "# Problem 14:\n",
    "### Problem Statement: Define a function to check if a year is a leap year. Returns a boolean value\n",
    "#### Test cases:\n",
    ">* 2000 -> True\n",
    "* 1900 -> False\n",
    "* 2012 -> True\n",
    "* 2020 -> True\n",
    "* 0200 -> False\n",
    "#### Explanation:\n",
    "<p> “if (year is not divisible by 4) then (it is a common year)</p>\n",
    "<p>else if (year is not divisible by 100) then (it is a leap year)</p>\n",
    "<p>else if (year is not divisible by 400) then (it is a common year)</p>\n",
    "<p>else (it is a leap year)”</p>"
   ]
  },
  {
   "cell_type": "code",
   "execution_count": 1,
   "metadata": {},
   "outputs": [
    {
     "data": {
      "text/plain": [
       "True"
      ]
     },
     "execution_count": 1,
     "metadata": {},
     "output_type": "execute_result"
    }
   ],
   "source": [
    "def leapYear(year):\n",
    "    if (year % 4 != 0):\n",
    "        return False   \n",
    "    elif(year % 100 != 0):\n",
    "        return True\n",
    "    elif(year % 400 == 0):\n",
    "        return True\n",
    "    else:\n",
    "        return False\n",
    "\n",
    "leapYear(2016)"
   ]
  },
  {
   "cell_type": "code",
   "execution_count": 6,
   "metadata": {},
   "outputs": [
    {
     "data": {
      "text/plain": [
       "True"
      ]
     },
     "execution_count": 6,
     "metadata": {},
     "output_type": "execute_result"
    }
   ],
   "source": [
    "# another approach\n",
    "\n",
    "def leapYear(year):\n",
    "    if ((year % 400 == 0) or (year % 100 != 0 and year % 4 == 0)):\n",
    "        return True   \n",
    "    else:\n",
    "        return False\n",
    "\n",
    "leapYear(2012)"
   ]
  }
 ],
 "metadata": {
  "kernelspec": {
   "display_name": "Python 3",
   "language": "python",
   "name": "python3"
  },
  "language_info": {
   "codemirror_mode": {
    "name": "ipython",
    "version": 3
   },
   "file_extension": ".py",
   "mimetype": "text/x-python",
   "name": "python",
   "nbconvert_exporter": "python",
   "pygments_lexer": "ipython3",
   "version": "3.7.3"
  }
 },
 "nbformat": 4,
 "nbformat_minor": 2
}
