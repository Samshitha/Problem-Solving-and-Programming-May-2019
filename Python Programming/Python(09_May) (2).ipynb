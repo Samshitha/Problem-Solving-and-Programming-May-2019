{
 "cells": [
  {
   "cell_type": "markdown",
   "metadata": {
    "colab_type": "text",
    "id": "12vepvvk49FD"
   },
   "source": [
    "# Programming and Problem Solving\n",
    "## Day No - 6\n",
    "## Date - 09 May 2019"
   ]
  },
  {
   "cell_type": "markdown",
   "metadata": {
    "colab_type": "text",
    "id": "940ZIi8n49FH"
   },
   "source": [
    "# Day Outcomes\n",
    ">* To perform some basic mathematical functions\n",
    "* To calculate expressions using operators\n",
    "* To generate random numbers, natural numbers, perfect numebers\n",
    "* to get a basic idea about procedures"
   ]
  },
  {
   "cell_type": "markdown",
   "metadata": {
    "colab_type": "text",
    "id": "h3KdEO8B49FK"
   },
   "source": [
    "  #  "
   ]
  },
  {
   "cell_type": "markdown",
   "metadata": {
    "colab_type": "text",
    "id": "7_K30IPP49FO"
   },
   "source": [
    "# Problem 1: \n",
    "\n",
    "### Problem Statement: Procedure to perform some basic mathematical functions\n",
    "\n",
    "### Constraints: Given numbers will be in the range [1 to 1000000000]"
   ]
  },
  {
   "cell_type": "code",
   "execution_count": 15,
   "metadata": {
    "colab": {},
    "colab_type": "code",
    "id": "fIDuGC2j49FR",
    "outputId": "5229f5d7-b946-45d6-b84d-e6a4975c809d"
   },
   "outputs": [
    {
     "name": "stdout",
     "output_type": "stream",
     "text": [
      "5\n",
      "-1\n",
      "6\n",
      "0.6666666666666666\n",
      "2\n"
     ]
    }
   ],
   "source": [
    "def addition(a, b):\n",
    "    return a + b\n",
    "def subtraction(a, b):\n",
    "    return a - b\n",
    "def multiplication(a, b):\n",
    "    return a * b\n",
    "def division(a, b):\n",
    "    return a / b\n",
    "def modulo(a, b):\n",
    "    return a % b\n",
    "\n",
    "print(addition(2, 3))\n",
    "print(subtraction(2, 3))\n",
    "print(multiplication(2, 3))\n",
    "print(division(2, 3))\n",
    "print(modulo(2, 3))"
   ]
  },
  {
   "cell_type": "markdown",
   "metadata": {
    "colab_type": "text",
    "id": "__s3uZ2349Fe"
   },
   "source": [
    "#  "
   ]
  },
  {
   "cell_type": "markdown",
   "metadata": {
    "colab_type": "text",
    "id": "vwVibUw149Fh"
   },
   "source": [
    "# Problem 2: \n",
    "\n",
    "### Problem Statement: Procedure to evaluate the polynomial - f(x)= x^3 + 2 X^2 + 3 X - 10 for x in the range [1, 1000]\n",
    "\n",
    "### Constraints: Given numbers will be in the range [1 to 1000]\n",
    "\n",
    "#### Test case:\n",
    " >polynomial(2) --> 20"
   ]
  },
  {
   "cell_type": "code",
   "execution_count": 2,
   "metadata": {
    "colab": {},
    "colab_type": "code",
    "id": "fFC-pGNn49Fk",
    "outputId": "3edbe2a7-6e54-44c6-e84f-d7099e87677b"
   },
   "outputs": [
    {
     "data": {
      "text/plain": [
       "230"
      ]
     },
     "execution_count": 2,
     "metadata": {},
     "output_type": "execute_result"
    }
   ],
   "source": [
    "def polynomial(n):\n",
    "    poly = (n**3) + (2*n) ** 2 + (3*n) - 10\n",
    "    return(poly)\n",
    "\n",
    "polynomial(5)"
   ]
  },
  {
   "cell_type": "markdown",
   "metadata": {
    "colab_type": "text",
    "id": "TJbSMsiC49Fr"
   },
   "source": [
    "#  "
   ]
  },
  {
   "cell_type": "markdown",
   "metadata": {
    "colab_type": "text",
    "id": "Z7rFXLb-49Fu"
   },
   "source": [
    "# Problem 3: \n",
    "\n",
    "### Problem Statement: Given 2 ints, a and b, return True if one if them is 10 or if their sum is 10 (use procedures)\n",
    "\n",
    "\n",
    "### Constraints: Given numbers will be in the range [1 to 1000]\n",
    "\n",
    "#### Test cases:\n",
    ">* is10_sum10(9, 10) → True\n",
    "* is10_sum10(9, 9) → False\n",
    "* is10_sum10(1, 9) → True"
   ]
  },
  {
   "cell_type": "code",
   "execution_count": 3,
   "metadata": {
    "colab": {},
    "colab_type": "code",
    "id": "BCHyFjvg49Fw",
    "outputId": "33f9eb02-91e9-445d-e958-9da3cc40fd77"
   },
   "outputs": [
    {
     "data": {
      "text/plain": [
       "True"
      ]
     },
     "execution_count": 3,
     "metadata": {},
     "output_type": "execute_result"
    }
   ],
   "source": [
    "def is10_sum10(a, b):\n",
    "    if(a > 1000):\n",
    "        print(\"Entered number is not in range\")\n",
    "    else:\n",
    "        if(a == 10 or b == 10 or (a+b) == 10):\n",
    "            return True  \n",
    "        else:\n",
    "            return False\n",
    "        \n",
    "is10_sum10(1, 9)"
   ]
  },
  {
   "cell_type": "markdown",
   "metadata": {
    "colab_type": "text",
    "id": "Sg7t4kKV49F8"
   },
   "source": [
    "#   "
   ]
  },
  {
   "cell_type": "markdown",
   "metadata": {
    "colab_type": "text",
    "id": "NU59g1Tk49F9"
   },
   "source": [
    "# Problem 4: \n",
    "\n",
    "### Problem Statement: Given 2 int values, return True if first is negative and second is positive or vice-versa. If the third parameter is True, then return True only if both are negative (use procedures)\n",
    "\n",
    "\n",
    "### Constraints: Given numbers will be in the range [1 to 1000]\n",
    "\n",
    "#### Test cases:\n",
    "> * pos_neg(1, -1, False) → True\n",
    "* pos_neg(-1, 1, False) → True\n",
    "* pos_neg(-4, -5, True) → True\n",
    "* pos_neg(-1, 1, True) → False\n",
    "* pos_neg(1, 6, True) → False\n",
    "* pos_neg(-1, -9, False) → False"
   ]
  },
  {
   "cell_type": "code",
   "execution_count": 4,
   "metadata": {
    "colab": {},
    "colab_type": "code",
    "id": "wAkllzlK49F-",
    "outputId": "c299150c-a23e-42ff-9726-c400da1d8faa"
   },
   "outputs": [
    {
     "name": "stdout",
     "output_type": "stream",
     "text": [
      "True\n",
      "True\n",
      "True\n",
      "False\n",
      "False\n",
      "False\n"
     ]
    }
   ],
   "source": [
    "def pos_neg(x, y, boolean):\n",
    "    return((x < 0 and y > 0 and boolean == False) or (x > 0 and y < 0 and boolean == False) or (x < 0 and y < 0 and boolean == True))\n",
    "\n",
    "print(pos_neg(1, -1, False)) \n",
    "print(pos_neg(-1, 1, False))\n",
    "print(pos_neg(-4, -5, True))\n",
    "print(pos_neg(-1, 1, True))\n",
    "print(pos_neg(1, 6, True))\n",
    "print(pos_neg(-1, -9, False))"
   ]
  },
  {
   "cell_type": "markdown",
   "metadata": {
    "colab_type": "text",
    "id": "H1B-gYDh49GG"
   },
   "source": [
    "#  "
   ]
  },
  {
   "cell_type": "markdown",
   "metadata": {
    "colab_type": "text",
    "id": "t94ApqGu49GH"
   },
   "source": [
    "# Problem 5: \n",
    "\n",
    "### Problem Statement: Given an int n, return True if it is within 10 of 100 or 200 by using procedures (Note: abs(num) computes the absolute value of a number)\n",
    "\n",
    "### Constraints: Given numbers will be in the range [1 to 1000000000]\n",
    "\n",
    "#### Test cases:\n",
    "> * nearHundred(93) → True\n",
    "* nearHundred(90) → True\n",
    "* nearHundred(89) → False"
   ]
  },
  {
   "cell_type": "code",
   "execution_count": 5,
   "metadata": {
    "colab": {},
    "colab_type": "code",
    "id": "XxHq37XE49GI",
    "outputId": "00761a7c-6db1-4b40-a871-45500058bf04"
   },
   "outputs": [
    {
     "data": {
      "text/plain": [
       "False"
      ]
     },
     "execution_count": 5,
     "metadata": {},
     "output_type": "execute_result"
    }
   ],
   "source": [
    "def nearHundred(n):\n",
    "    return (n >= 90 and n <= 110 or n >= 190 and n <= 210)\n",
    "\n",
    "nearHundred(89)"
   ]
  },
  {
   "cell_type": "markdown",
   "metadata": {
    "colab_type": "text",
    "id": "cjAD3KVC49GP"
   },
   "source": [
    "#  "
   ]
  },
  {
   "cell_type": "markdown",
   "metadata": {
    "colab_type": "text",
    "id": "kRuqtI1x49GQ"
   },
   "source": [
    "# Problem 6: \n",
    "\n",
    "### Problem Statement: print N natural numbers using procedures\n",
    "\n",
    "### Constraints: Given numbers will be in the range [1 to 1000000000]\n",
    "\n",
    "#### Test cases:\n",
    "> * nautralNumbers(5) → 1  2  3  4  5\n",
    "* naturalNumbers(11) → 1  2  3  4  6  7  8  9  10  11"
   ]
  },
  {
   "cell_type": "code",
   "execution_count": 23,
   "metadata": {
    "colab": {},
    "colab_type": "code",
    "id": "kyRORsFv49GR",
    "outputId": "d90be04c-aaa2-4870-a623-307de8774894"
   },
   "outputs": [
    {
     "data": {
      "text/plain": [
       "[1, 2, 3, 4, 5, 6, 7, 8, 9, 10, 11]"
      ]
     },
     "execution_count": 23,
     "metadata": {},
     "output_type": "execute_result"
    }
   ],
   "source": [
    "def naturalNumbers(n):\n",
    "    list1 = []\n",
    "    for i in range(1, n+1):\n",
    "        list1.append(i)\n",
    "    return list1\n",
    "    #print(*range(1, n+1))\n",
    "       \n",
    "naturalNumbers(11)"
   ]
  },
  {
   "cell_type": "markdown",
   "metadata": {
    "colab_type": "text",
    "id": "eOJJst1749GW"
   },
   "source": [
    "#  "
   ]
  },
  {
   "cell_type": "markdown",
   "metadata": {
    "colab_type": "text",
    "id": "frjP6XAV49GX"
   },
   "source": [
    "# Problem 7: \n",
    "\n",
    "### Problem Statement: print factorial of a given number using procedures\n",
    "\n",
    "### Constraints: Given numbers will be in the range [1 to 1000000000]\n",
    "\n",
    "#### Test cases:\n",
    "> * calculateFactorial(5) → 120\n",
    "* calculateFactorial(11) → 39916800"
   ]
  },
  {
   "cell_type": "code",
   "execution_count": 7,
   "metadata": {
    "colab": {},
    "colab_type": "code",
    "id": "xwNF4XRd49GX",
    "outputId": "821e22c2-7f43-42b1-9978-e094381bf3c7"
   },
   "outputs": [
    {
     "data": {
      "text/plain": [
       "39916800"
      ]
     },
     "execution_count": 7,
     "metadata": {},
     "output_type": "execute_result"
    }
   ],
   "source": [
    "def calculateFactorial(n):\n",
    "    fact = 1\n",
    "    if(fact == 0):\n",
    "        return(1)\n",
    "    elif(fact < 0):\n",
    "        print(\"invalid\")\n",
    "    else:\n",
    "        for i in range(1, n+1):\n",
    "            fact = fact * i\n",
    "        return fact\n",
    "calculateFactorial(11)"
   ]
  },
  {
   "cell_type": "markdown",
   "metadata": {
    "colab_type": "text",
    "id": "e4RZOjLi49Ga"
   },
   "source": [
    "#  "
   ]
  },
  {
   "cell_type": "markdown",
   "metadata": {
    "colab_type": "text",
    "id": "hlPabJan49Gb"
   },
   "source": [
    "# Problem 8: \n",
    "\n",
    "### Problem Statement: Create a Random Number Generator as a Procedure which takes the Range(lb, ub) and returns a Random number in the given range\n",
    "\n",
    "### Constraints: Given numbers will be in the range -- lb < random number <ub\n",
    "\n",
    "#### Test case:\n",
    "> * randomGenerator(1, 100) → number will be in range(1, 100)\n"
   ]
  },
  {
   "cell_type": "code",
   "execution_count": 8,
   "metadata": {
    "colab": {},
    "colab_type": "code",
    "id": "7rd9g5Sq49Gb",
    "outputId": "014a9af8-99e6-4c73-a983-101629decd44"
   },
   "outputs": [
    {
     "data": {
      "text/plain": [
       "16"
      ]
     },
     "execution_count": 8,
     "metadata": {},
     "output_type": "execute_result"
    }
   ],
   "source": [
    "from random import randrange        #import random  -- random is a package\n",
    "def randomGenerator(lb, ub):\n",
    "    return randrange(lb+1, ub)      #return random.randrange(lb+1, ub)  -- randrange is a function\n",
    "    \n",
    "randomGenerator(2, 17)"
   ]
  },
  {
   "cell_type": "markdown",
   "metadata": {
    "colab_type": "text",
    "id": "2q0QaalK49Gf"
   },
   "source": [
    "#  "
   ]
  },
  {
   "cell_type": "markdown",
   "metadata": {
    "colab_type": "text",
    "id": "Epkm9fx_49Gg"
   },
   "source": [
    "# Problem 9: \n",
    "\n",
    "### Problem Statement: sum of N random numbers in the range (0, 1000000000), N is an integer\n",
    "\n",
    "### Constraints: Given numbers will be in the range -- 0 < random number <ub"
   ]
  },
  {
   "cell_type": "code",
   "execution_count": 9,
   "metadata": {
    "colab": {},
    "colab_type": "code",
    "id": "AmpfHQ5549Gh",
    "outputId": "e0a24e45-f485-4861-fc23-09f9904626be"
   },
   "outputs": [
    {
     "data": {
      "text/plain": [
       "48623104688087"
      ]
     },
     "execution_count": 9,
     "metadata": {},
     "output_type": "execute_result"
    }
   ],
   "source": [
    "from random import randint        #import random  -- random is a package\n",
    "def sumRandomNumbers(n, lb, ub):\n",
    "    sum = 0      \n",
    "    for i in range(1, n+1):\n",
    "        sum = sum + randint(lb, ub)   #return random.randint(lb+1, ub)  -- randrange is a function\n",
    "    return sum\n",
    "    \n",
    "sumRandomNumbers(100, 55, 1000000000000)"
   ]
  },
  {
   "cell_type": "markdown",
   "metadata": {
    "colab_type": "text",
    "id": "utSsxBJB49Gl"
   },
   "source": [
    "#  "
   ]
  },
  {
   "cell_type": "markdown",
   "metadata": {
    "colab_type": "text",
    "id": "D0LdqsCC49Gn"
   },
   "source": [
    "# Problem 10: \n",
    "\n",
    "### Problem Statement: Design a procedure to perform Linear search on list of N unsorted unique numbers. It take an array and the key element to be searched and returns the index of the element of key element if found. Else returns -1\n",
    "### Constraints: Given array list of any size and the key element to be searched\n",
    "#### Test cases:\n",
    ">* linearSearch([5,4,4,2,1], 4) -> 2\n",
    "* linearSearch([90, 123, 324, 21, 56], 22) -> -1\n",
    "* linearSearch([1, 4, 8, 0, 3, 5, 6], 3) -> 4"
   ]
  },
  {
   "cell_type": "code",
   "execution_count": 10,
   "metadata": {
    "colab": {},
    "colab_type": "code",
    "id": "JFuGJFpE49Gn",
    "outputId": "df83c915-f320-4514-c1ee-42273649cb5a"
   },
   "outputs": [
    {
     "data": {
      "text/plain": [
       "0"
      ]
     },
     "execution_count": 10,
     "metadata": {},
     "output_type": "execute_result"
    }
   ],
   "source": [
    "def linearSearch(list1, key):\n",
    "    boolean = False\n",
    "    for i in range(0, len(list1)):\n",
    "        if(list1[i] == key):\n",
    "            return i      #returns the value back to the function and breaks the loop\n",
    "    return -1  #if the key is not present in the loop\n",
    "linearSearch([4,5,4,2,1], 4)"
   ]
  },
  {
   "cell_type": "markdown",
   "metadata": {
    "colab_type": "text",
    "id": "jT0m88sl49Gs"
   },
   "source": [
    "#  "
   ]
  },
  {
   "cell_type": "markdown",
   "metadata": {
    "colab_type": "text",
    "id": "d8hachXn49Gu"
   },
   "source": [
    "# Problem 11: \n",
    "\n",
    "### Problem Statement: Procedure to generate multiplication tables within the specified lowerbound and upperbound\n",
    "### Constraints: given number is in the range 1 to 100000000000; [lb, ub]\n",
    "#### Test cases:\n",
    "        multiTable(3, 5, 7) -> 3 X 5 = 15\n",
    "\n",
    "                               3 X 6 = 18\n",
    "\n",
    "                               3 X 7 = 21"
   ]
  },
  {
   "cell_type": "code",
   "execution_count": 10,
   "metadata": {
    "colab": {},
    "colab_type": "code",
    "id": "LMJDG1Mo49Gx",
    "outputId": "51033bb5-a492-4583-96fe-c209b6aefd7f"
   },
   "outputs": [
    {
     "name": "stdout",
     "output_type": "stream",
     "text": [
      "3  X  0  =  0\n",
      "3  X  1  =  3\n",
      "3  X  2  =  6\n",
      "3  X  3  =  9\n",
      "3  X  4  =  12\n",
      "3  X  5  =  15\n",
      "3  X  6  =  18\n",
      "3  X  7  =  21\n",
      "3  X  8  =  24\n",
      "3  X  9  =  27\n",
      "3  X  10  =  30\n"
     ]
    }
   ],
   "source": [
    "def multiTable(n, lb, ub):\n",
    "    for lb in range(lb, ub+1):\n",
    "        print(n, \" X \", lb, \" = \", n*lb)\n",
    "\n",
    "multiTable(3, 0, 10)"
   ]
  },
  {
   "cell_type": "markdown",
   "metadata": {
    "colab_type": "text",
    "id": "g9tHzcaZ49G4"
   },
   "source": [
    "#  "
   ]
  },
  {
   "cell_type": "markdown",
   "metadata": {
    "colab_type": "text",
    "id": "7yEtoCp549G6"
   },
   "source": [
    "# Problem 12: \n",
    "\n",
    "### Problem Statement: Procedure to print the list of factors of a given number\n",
    "### Constraints: given number is in the range 1 to 100000000000\n",
    "#### Test cases:\n",
    ">* factors(6)  ->  1 2 3 6\n",
    "* factors(9) ->   1 3 9\n",
    "* factors(19) ->  1  19"
   ]
  },
  {
   "cell_type": "code",
   "execution_count": 12,
   "metadata": {
    "colab": {},
    "colab_type": "code",
    "id": "dN__P5ad49G7",
    "outputId": "de3dbeaf-ad8a-48b9-aadc-653634be40b6"
   },
   "outputs": [
    {
     "data": {
      "text/plain": [
       "[1, 3, 9]"
      ]
     },
     "execution_count": 12,
     "metadata": {},
     "output_type": "execute_result"
    }
   ],
   "source": [
    "def factors(n):\n",
    "    list1 = []\n",
    "    for i in range(1, n+1):\n",
    "        if(n % i == 0):\n",
    "            list1.append(i)\n",
    "    return list1\n",
    "factors(9)\n",
    "        "
   ]
  },
  {
   "cell_type": "markdown",
   "metadata": {
    "colab_type": "text",
    "id": "Fg_bp34L49G_"
   },
   "source": [
    "#  "
   ]
  },
  {
   "cell_type": "markdown",
   "metadata": {
    "colab_type": "text",
    "id": "7m4zru9A49HA"
   },
   "source": [
    "# Problem 13: \n",
    "\n",
    "### Problem Statement: Procedure to check if a given number is Prime and returns a Boolean value\n",
    "### Constraints: given number is in the range 1 to 100000000000\n",
    "#### Test cases:\n",
    ">* isPrime(7) -> True\n",
    "* isPrime(9) ->  False"
   ]
  },
  {
   "cell_type": "code",
   "execution_count": 13,
   "metadata": {
    "colab": {},
    "colab_type": "code",
    "id": "8AtEqcH_49HC",
    "outputId": "3947bff5-6526-46b7-bad6-da19ebf47409"
   },
   "outputs": [
    {
     "data": {
      "text/plain": [
       "True"
      ]
     },
     "execution_count": 13,
     "metadata": {},
     "output_type": "execute_result"
    }
   ],
   "source": [
    "def isPrime(n):\n",
    "    count = 0\n",
    "    for i in range(1, int((n+1)/2)):\n",
    "        if(n % i == 0):\n",
    "            count = count + 1\n",
    "    if(count == 2):\n",
    "        return True\n",
    "    else:\n",
    "        return False\n",
    "isPrime(9)"
   ]
  },
  {
   "cell_type": "markdown",
   "metadata": {
    "colab_type": "text",
    "id": "RgfkXBPG49HG"
   },
   "source": [
    "#  "
   ]
  },
  {
   "cell_type": "markdown",
   "metadata": {
    "colab_type": "text",
    "id": "nNx3ZPXu49HH"
   },
   "source": [
    "# Problem 14: \n",
    "\n",
    "### Problem Statement: Procedure to count the number of digits in a given number\n",
    "### Constraints: given number is in the range 1 to 100000000000\n",
    "#### Test cases:\n",
    ">* countDigits(123456) ->  6\n",
    "* countDigits (0) ->  1"
   ]
  },
  {
   "cell_type": "code",
   "execution_count": 14,
   "metadata": {
    "colab": {},
    "colab_type": "code",
    "id": "UufnSaOg49HI",
    "outputId": "219dde74-eee0-42da-d344-444d036ff7c5"
   },
   "outputs": [
    {
     "data": {
      "text/plain": [
       "6"
      ]
     },
     "execution_count": 14,
     "metadata": {},
     "output_type": "execute_result"
    }
   ],
   "source": [
    "def countDigits(n):\n",
    "    count = 0\n",
    "    for i in range(0,len(str(n))):\n",
    "        if(str(n)[i] != '\\0'):\n",
    "            count = count + 1\n",
    "    return count\n",
    "countDigits(123456)"
   ]
  },
  {
   "cell_type": "markdown",
   "metadata": {
    "colab_type": "text",
    "id": "LLPD436g49HM"
   },
   "source": [
    "#  "
   ]
  },
  {
   "cell_type": "markdown",
   "metadata": {
    "colab_type": "text",
    "id": "6pwJeDmq49HN"
   },
   "source": [
    "# Problem 15: \n",
    "### Problem Statement: Procedure to check if a given number is a Perfect Number. ( Perfect number is a number for which the sum of all it's divisors is equal to the number itself)\n",
    "### Constraints: given number is in the range 1 to 100000000000\n",
    "#### Test cases:\n",
    ">* isPerfect(3) -> False\n",
    "* isPerfect (6) -> True\n",
    "* isPerfect (28) -> True"
   ]
  },
  {
   "cell_type": "code",
   "execution_count": 15,
   "metadata": {
    "colab": {},
    "colab_type": "code",
    "id": "ihdYiSa_49HO",
    "outputId": "d9eb70d1-1ed4-45c0-eb18-1afcb3d29e05"
   },
   "outputs": [
    {
     "data": {
      "text/plain": [
       "True"
      ]
     },
     "execution_count": 15,
     "metadata": {},
     "output_type": "execute_result"
    }
   ],
   "source": [
    "def isPerfect(n):\n",
    "    sum = 0\n",
    "    for i in range(1, n):\n",
    "        if(n % i == 0):\n",
    "            sum = sum + i\n",
    "    if(sum == n):\n",
    "        return True\n",
    "    else:\n",
    "        return False\n",
    "isPerfect(28)"
   ]
  },
  {
   "cell_type": "markdown",
   "metadata": {
    "colab_type": "text",
    "id": "D9lr63-249HX"
   },
   "source": [
    "#  "
   ]
  },
  {
   "cell_type": "markdown",
   "metadata": {
    "colab_type": "text",
    "id": "Mo3fb5xh49HX"
   },
   "source": [
    "# Problem 16: \n",
    "### Problem Statement: Design a procedure to determine if a given string is a Palindrome\n",
    "#### Test cases:\n",
    ">* isPalindrome(\"racecar\") -> True\n",
    "* isPalindrome(\"raptor\") -> False"
   ]
  },
  {
   "cell_type": "code",
   "execution_count": 16,
   "metadata": {
    "colab": {},
    "colab_type": "code",
    "id": "E9q9OXfn49HX",
    "outputId": "e6109fca-6e46-4cf0-cf97-a40a19881507"
   },
   "outputs": [
    {
     "data": {
      "text/plain": [
       "True"
      ]
     },
     "execution_count": 16,
     "metadata": {},
     "output_type": "execute_result"
    }
   ],
   "source": [
    "def isPalindrome(string):\n",
    "    for i in string:\n",
    "        return(string == string[::-1])\n",
    "isPalindrome(\"racecar\")"
   ]
  },
  {
   "cell_type": "markdown",
   "metadata": {
    "colab_type": "text",
    "id": "fFIz-Kgz49Ha"
   },
   "source": [
    "#  "
   ]
  },
  {
   "cell_type": "markdown",
   "metadata": {
    "colab_type": "text",
    "id": "K0cEN2X549Ha"
   },
   "source": [
    "# Problem 17: \n",
    "### Problem Statement: Design a procedure calculate the maximum, minimum and average of N numbers\n",
    "#### Test cases:\n",
    "max_min_avg( a[1,2,3,4,5] ) -> Max = 5, Min = 1, Avg = 3"
   ]
  },
  {
   "cell_type": "code",
   "execution_count": 17,
   "metadata": {
    "colab": {},
    "colab_type": "code",
    "id": "NczY3dxH49Ha"
   },
   "outputs": [
    {
     "data": {
      "text/plain": [
       "{'Max': 9, 'Min': 3, 'Avg': 5.53125}"
      ]
     },
     "execution_count": 17,
     "metadata": {},
     "output_type": "execute_result"
    }
   ],
   "source": [
    "def max_min_avg(list1):\n",
    "    dict1 = {}\n",
    "    avg = 0\n",
    "    min1 = max1 = list1[1]\n",
    "    for i in range(0, len(list1)):\n",
    "        if(max1 < list1[i]):\n",
    "            max1 = list1[i]\n",
    "        if(min1 > list1[i]):\n",
    "            min1 = list1[i]\n",
    "        avg = (avg + list1[i])/2\n",
    "    dict1 = {\"Max\" : max1, \"Min\" : min1, \"Avg\" : avg}\n",
    "    return dict1\n",
    "\n",
    "max_min_avg([3, 5, 7, 9, 4])"
   ]
  },
  {
   "cell_type": "markdown",
   "metadata": {},
   "source": [
    "#  "
   ]
  },
  {
   "cell_type": "markdown",
   "metadata": {},
   "source": [
    "# Problem 18: \n",
    "### Problem Statement: Procedure to generate the first N perfect numbers\n",
    "#### Test cases:\n",
    ">* GeneratePerfect(2) ->  6   28\n",
    "* GeneratePerfect (4) ->  6   28   496    8128"
   ]
  },
  {
   "cell_type": "code",
   "execution_count": 12,
   "metadata": {},
   "outputs": [
    {
     "data": {
      "text/plain": [
       "[6, 28, 496, 8128]"
      ]
     },
     "execution_count": 12,
     "metadata": {},
     "output_type": "execute_result"
    }
   ],
   "source": [
    "def isPerfect(n):\n",
    "    sum = 0\n",
    "    for i in range(1, n):\n",
    "        if(n % i == 0):\n",
    "            sum = sum + i\n",
    "    if(sum == n):\n",
    "        return True\n",
    "    else:\n",
    "        return False\n",
    "\n",
    "def generatePerfect(num):\n",
    "    list1 = []\n",
    "    count = 1\n",
    "    countPerfect = 1\n",
    "    while(countPerfect <= num):\n",
    "            if(isPerfect(count) == True):\n",
    "                list1.append(count)\n",
    "                countPerfect = countPerfect + 1\n",
    "            count = count + 1\n",
    "    return list1\n",
    "\n",
    "generatePerfect(4)"
   ]
  }
 ],
 "metadata": {
  "colab": {
   "name": "Python(09 May).ipynb",
   "provenance": [],
   "version": "0.3.2"
  },
  "kernelspec": {
   "display_name": "Python 3",
   "language": "python",
   "name": "python3"
  },
  "language_info": {
   "codemirror_mode": {
    "name": "ipython",
    "version": 3
   },
   "file_extension": ".py",
   "mimetype": "text/x-python",
   "name": "python",
   "nbconvert_exporter": "python",
   "pygments_lexer": "ipython3",
   "version": "3.7.3"
  }
 },
 "nbformat": 4,
 "nbformat_minor": 1
}
