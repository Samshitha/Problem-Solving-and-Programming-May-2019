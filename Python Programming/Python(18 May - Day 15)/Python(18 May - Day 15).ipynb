{
 "cells": [
  {
   "cell_type": "markdown",
   "metadata": {},
   "source": [
    "# Programming and Problem Solving\n",
    "### Day No - 15\n",
    "### Date - 18 May 2019"
   ]
  },
  {
   "cell_type": "markdown",
   "metadata": {},
   "source": [
    "# Day Outcomes\n",
    "1. pandas package\n",
    "2. matplotlib package - pyplot, mlab modules\n",
    "3. Objective 3"
   ]
  },
  {
   "cell_type": "markdown",
   "metadata": {},
   "source": [
    "#  "
   ]
  },
  {
   "cell_type": "markdown",
   "metadata": {},
   "source": [
    "# Problem 1: \n",
    "### Problem Statement: Generate marks of 2000 students in a csv file with columns: \n",
    "#### Roll No, Marks:\n",
    "#### 221710300001\n",
    "####        ...\n",
    "#### 221710302000"
   ]
  },
  {
   "cell_type": "code",
   "execution_count": 1,
   "metadata": {},
   "outputs": [
    {
     "data": {
      "text/html": [
       "<div>\n",
       "<style scoped>\n",
       "    .dataframe tbody tr th:only-of-type {\n",
       "        vertical-align: middle;\n",
       "    }\n",
       "\n",
       "    .dataframe tbody tr th {\n",
       "        vertical-align: top;\n",
       "    }\n",
       "\n",
       "    .dataframe thead th {\n",
       "        text-align: right;\n",
       "    }\n",
       "</style>\n",
       "<table border=\"1\" class=\"dataframe\">\n",
       "  <thead>\n",
       "    <tr style=\"text-align: right;\">\n",
       "      <th></th>\n",
       "      <th>RollNo</th>\n",
       "      <th>Marks</th>\n",
       "    </tr>\n",
       "  </thead>\n",
       "  <tbody>\n",
       "    <tr>\n",
       "      <th>0</th>\n",
       "      <td>221710300001</td>\n",
       "      <td>72</td>\n",
       "    </tr>\n",
       "    <tr>\n",
       "      <th>1</th>\n",
       "      <td>221710300002</td>\n",
       "      <td>4</td>\n",
       "    </tr>\n",
       "    <tr>\n",
       "      <th>2</th>\n",
       "      <td>221710300003</td>\n",
       "      <td>88</td>\n",
       "    </tr>\n",
       "    <tr>\n",
       "      <th>3</th>\n",
       "      <td>221710300004</td>\n",
       "      <td>7</td>\n",
       "    </tr>\n",
       "    <tr>\n",
       "      <th>4</th>\n",
       "      <td>221710300005</td>\n",
       "      <td>86</td>\n",
       "    </tr>\n",
       "    <tr>\n",
       "      <th>5</th>\n",
       "      <td>221710300006</td>\n",
       "      <td>35</td>\n",
       "    </tr>\n",
       "    <tr>\n",
       "      <th>6</th>\n",
       "      <td>221710300007</td>\n",
       "      <td>45</td>\n",
       "    </tr>\n",
       "    <tr>\n",
       "      <th>7</th>\n",
       "      <td>221710300008</td>\n",
       "      <td>38</td>\n",
       "    </tr>\n",
       "    <tr>\n",
       "      <th>8</th>\n",
       "      <td>221710300009</td>\n",
       "      <td>14</td>\n",
       "    </tr>\n",
       "    <tr>\n",
       "      <th>9</th>\n",
       "      <td>221710300010</td>\n",
       "      <td>9</td>\n",
       "    </tr>\n",
       "    <tr>\n",
       "      <th>10</th>\n",
       "      <td>221710300011</td>\n",
       "      <td>94</td>\n",
       "    </tr>\n",
       "    <tr>\n",
       "      <th>11</th>\n",
       "      <td>221710300012</td>\n",
       "      <td>48</td>\n",
       "    </tr>\n",
       "    <tr>\n",
       "      <th>12</th>\n",
       "      <td>221710300013</td>\n",
       "      <td>48</td>\n",
       "    </tr>\n",
       "    <tr>\n",
       "      <th>13</th>\n",
       "      <td>221710300014</td>\n",
       "      <td>62</td>\n",
       "    </tr>\n",
       "    <tr>\n",
       "      <th>14</th>\n",
       "      <td>221710300015</td>\n",
       "      <td>91</td>\n",
       "    </tr>\n",
       "    <tr>\n",
       "      <th>15</th>\n",
       "      <td>221710300016</td>\n",
       "      <td>95</td>\n",
       "    </tr>\n",
       "    <tr>\n",
       "      <th>16</th>\n",
       "      <td>221710300017</td>\n",
       "      <td>38</td>\n",
       "    </tr>\n",
       "    <tr>\n",
       "      <th>17</th>\n",
       "      <td>221710300018</td>\n",
       "      <td>34</td>\n",
       "    </tr>\n",
       "    <tr>\n",
       "      <th>18</th>\n",
       "      <td>221710300019</td>\n",
       "      <td>32</td>\n",
       "    </tr>\n",
       "    <tr>\n",
       "      <th>19</th>\n",
       "      <td>221710300020</td>\n",
       "      <td>73</td>\n",
       "    </tr>\n",
       "    <tr>\n",
       "      <th>20</th>\n",
       "      <td>221710300021</td>\n",
       "      <td>54</td>\n",
       "    </tr>\n",
       "    <tr>\n",
       "      <th>21</th>\n",
       "      <td>221710300022</td>\n",
       "      <td>43</td>\n",
       "    </tr>\n",
       "    <tr>\n",
       "      <th>22</th>\n",
       "      <td>221710300023</td>\n",
       "      <td>55</td>\n",
       "    </tr>\n",
       "    <tr>\n",
       "      <th>23</th>\n",
       "      <td>221710300024</td>\n",
       "      <td>96</td>\n",
       "    </tr>\n",
       "    <tr>\n",
       "      <th>24</th>\n",
       "      <td>221710300025</td>\n",
       "      <td>43</td>\n",
       "    </tr>\n",
       "    <tr>\n",
       "      <th>25</th>\n",
       "      <td>221710300026</td>\n",
       "      <td>98</td>\n",
       "    </tr>\n",
       "    <tr>\n",
       "      <th>26</th>\n",
       "      <td>221710300027</td>\n",
       "      <td>86</td>\n",
       "    </tr>\n",
       "    <tr>\n",
       "      <th>27</th>\n",
       "      <td>221710300028</td>\n",
       "      <td>9</td>\n",
       "    </tr>\n",
       "    <tr>\n",
       "      <th>28</th>\n",
       "      <td>221710300029</td>\n",
       "      <td>99</td>\n",
       "    </tr>\n",
       "    <tr>\n",
       "      <th>29</th>\n",
       "      <td>221710300030</td>\n",
       "      <td>12</td>\n",
       "    </tr>\n",
       "    <tr>\n",
       "      <th>...</th>\n",
       "      <td>...</td>\n",
       "      <td>...</td>\n",
       "    </tr>\n",
       "    <tr>\n",
       "      <th>1970</th>\n",
       "      <td>221710301971</td>\n",
       "      <td>15</td>\n",
       "    </tr>\n",
       "    <tr>\n",
       "      <th>1971</th>\n",
       "      <td>221710301972</td>\n",
       "      <td>70</td>\n",
       "    </tr>\n",
       "    <tr>\n",
       "      <th>1972</th>\n",
       "      <td>221710301973</td>\n",
       "      <td>69</td>\n",
       "    </tr>\n",
       "    <tr>\n",
       "      <th>1973</th>\n",
       "      <td>221710301974</td>\n",
       "      <td>80</td>\n",
       "    </tr>\n",
       "    <tr>\n",
       "      <th>1974</th>\n",
       "      <td>221710301975</td>\n",
       "      <td>35</td>\n",
       "    </tr>\n",
       "    <tr>\n",
       "      <th>1975</th>\n",
       "      <td>221710301976</td>\n",
       "      <td>24</td>\n",
       "    </tr>\n",
       "    <tr>\n",
       "      <th>1976</th>\n",
       "      <td>221710301977</td>\n",
       "      <td>43</td>\n",
       "    </tr>\n",
       "    <tr>\n",
       "      <th>1977</th>\n",
       "      <td>221710301978</td>\n",
       "      <td>63</td>\n",
       "    </tr>\n",
       "    <tr>\n",
       "      <th>1978</th>\n",
       "      <td>221710301979</td>\n",
       "      <td>7</td>\n",
       "    </tr>\n",
       "    <tr>\n",
       "      <th>1979</th>\n",
       "      <td>221710301980</td>\n",
       "      <td>65</td>\n",
       "    </tr>\n",
       "    <tr>\n",
       "      <th>1980</th>\n",
       "      <td>221710301981</td>\n",
       "      <td>55</td>\n",
       "    </tr>\n",
       "    <tr>\n",
       "      <th>1981</th>\n",
       "      <td>221710301982</td>\n",
       "      <td>36</td>\n",
       "    </tr>\n",
       "    <tr>\n",
       "      <th>1982</th>\n",
       "      <td>221710301983</td>\n",
       "      <td>16</td>\n",
       "    </tr>\n",
       "    <tr>\n",
       "      <th>1983</th>\n",
       "      <td>221710301984</td>\n",
       "      <td>91</td>\n",
       "    </tr>\n",
       "    <tr>\n",
       "      <th>1984</th>\n",
       "      <td>221710301985</td>\n",
       "      <td>4</td>\n",
       "    </tr>\n",
       "    <tr>\n",
       "      <th>1985</th>\n",
       "      <td>221710301986</td>\n",
       "      <td>70</td>\n",
       "    </tr>\n",
       "    <tr>\n",
       "      <th>1986</th>\n",
       "      <td>221710301987</td>\n",
       "      <td>21</td>\n",
       "    </tr>\n",
       "    <tr>\n",
       "      <th>1987</th>\n",
       "      <td>221710301988</td>\n",
       "      <td>39</td>\n",
       "    </tr>\n",
       "    <tr>\n",
       "      <th>1988</th>\n",
       "      <td>221710301989</td>\n",
       "      <td>49</td>\n",
       "    </tr>\n",
       "    <tr>\n",
       "      <th>1989</th>\n",
       "      <td>221710301990</td>\n",
       "      <td>41</td>\n",
       "    </tr>\n",
       "    <tr>\n",
       "      <th>1990</th>\n",
       "      <td>221710301991</td>\n",
       "      <td>18</td>\n",
       "    </tr>\n",
       "    <tr>\n",
       "      <th>1991</th>\n",
       "      <td>221710301992</td>\n",
       "      <td>59</td>\n",
       "    </tr>\n",
       "    <tr>\n",
       "      <th>1992</th>\n",
       "      <td>221710301993</td>\n",
       "      <td>4</td>\n",
       "    </tr>\n",
       "    <tr>\n",
       "      <th>1993</th>\n",
       "      <td>221710301994</td>\n",
       "      <td>80</td>\n",
       "    </tr>\n",
       "    <tr>\n",
       "      <th>1994</th>\n",
       "      <td>221710301995</td>\n",
       "      <td>75</td>\n",
       "    </tr>\n",
       "    <tr>\n",
       "      <th>1995</th>\n",
       "      <td>221710301996</td>\n",
       "      <td>48</td>\n",
       "    </tr>\n",
       "    <tr>\n",
       "      <th>1996</th>\n",
       "      <td>221710301997</td>\n",
       "      <td>22</td>\n",
       "    </tr>\n",
       "    <tr>\n",
       "      <th>1997</th>\n",
       "      <td>221710301998</td>\n",
       "      <td>65</td>\n",
       "    </tr>\n",
       "    <tr>\n",
       "      <th>1998</th>\n",
       "      <td>221710301999</td>\n",
       "      <td>42</td>\n",
       "    </tr>\n",
       "    <tr>\n",
       "      <th>1999</th>\n",
       "      <td>221710302000</td>\n",
       "      <td>68</td>\n",
       "    </tr>\n",
       "  </tbody>\n",
       "</table>\n",
       "<p>2000 rows × 2 columns</p>\n",
       "</div>"
      ],
      "text/plain": [
       "            RollNo Marks\n",
       "0     221710300001    72\n",
       "1     221710300002     4\n",
       "2     221710300003    88\n",
       "3     221710300004     7\n",
       "4     221710300005    86\n",
       "5     221710300006    35\n",
       "6     221710300007    45\n",
       "7     221710300008    38\n",
       "8     221710300009    14\n",
       "9     221710300010     9\n",
       "10    221710300011    94\n",
       "11    221710300012    48\n",
       "12    221710300013    48\n",
       "13    221710300014    62\n",
       "14    221710300015    91\n",
       "15    221710300016    95\n",
       "16    221710300017    38\n",
       "17    221710300018    34\n",
       "18    221710300019    32\n",
       "19    221710300020    73\n",
       "20    221710300021    54\n",
       "21    221710300022    43\n",
       "22    221710300023    55\n",
       "23    221710300024    96\n",
       "24    221710300025    43\n",
       "25    221710300026    98\n",
       "26    221710300027    86\n",
       "27    221710300028     9\n",
       "28    221710300029    99\n",
       "29    221710300030    12\n",
       "...            ...   ...\n",
       "1970  221710301971    15\n",
       "1971  221710301972    70\n",
       "1972  221710301973    69\n",
       "1973  221710301974    80\n",
       "1974  221710301975    35\n",
       "1975  221710301976    24\n",
       "1976  221710301977    43\n",
       "1977  221710301978    63\n",
       "1978  221710301979     7\n",
       "1979  221710301980    65\n",
       "1980  221710301981    55\n",
       "1981  221710301982    36\n",
       "1982  221710301983    16\n",
       "1983  221710301984    91\n",
       "1984  221710301985     4\n",
       "1985  221710301986    70\n",
       "1986  221710301987    21\n",
       "1987  221710301988    39\n",
       "1988  221710301989    49\n",
       "1989  221710301990    41\n",
       "1990  221710301991    18\n",
       "1991  221710301992    59\n",
       "1992  221710301993     4\n",
       "1993  221710301994    80\n",
       "1994  221710301995    75\n",
       "1995  221710301996    48\n",
       "1996  221710301997    22\n",
       "1997  221710301998    65\n",
       "1998  221710301999    42\n",
       "1999  221710302000    68\n",
       "\n",
       "[2000 rows x 2 columns]"
      ]
     },
     "execution_count": 1,
     "metadata": {},
     "output_type": "execute_result"
    }
   ],
   "source": [
    "import pandas as pd\n",
    "from random import randint\n",
    "def generateMarksReportCSV(marksfile, nr, startroll):\n",
    "    df = pd.read_csv(marksfile)\n",
    "    for i in range(0, nr):\n",
    "        marks = randint(0,100)\n",
    "        df.loc[len(df)] = startroll,marks\n",
    "        df.to_csv(marksfile, index = False)\n",
    "        startroll += 1\n",
    "    return df\n",
    "generateMarksReportCSV('DataFiles/MarksFile.csv', 2000, 221710300001)"
   ]
  },
  {
   "cell_type": "markdown",
   "metadata": {},
   "source": [
    "#  "
   ]
  },
  {
   "cell_type": "markdown",
   "metadata": {},
   "source": [
    "# Problem 2: \n",
    "\n",
    "### Problem Statement: Plotting 2D graphs using matplotlib"
   ]
  },
  {
   "cell_type": "code",
   "execution_count": 3,
   "metadata": {},
   "outputs": [
    {
     "data": {
      "image/png": "[encoded data removed]",
      "text/plain": [
       "<Figure size 432x288 with 1 Axes>"
      ]
     },
     "metadata": {
      "needs_background": "light"
     },
     "output_type": "display_data"
    }
   ],
   "source": [
    "import matplotlib.pyplot as plt\n",
    "import matplotlib.mlab as mlab\n",
    "\n",
    "# plotting the graph\n",
    "\n",
    "plt.plot([1, 2, 3 ,4], [1, 8, 27, 64])\n",
    "plt.xlabel('Time')\n",
    "plt.ylabel('Distance')\n",
    "plt.savefig('Figures/time-distance.png')\n",
    "plt.show()"
   ]
  },
  {
   "cell_type": "markdown",
   "metadata": {},
   "source": [
    "#  "
   ]
  },
  {
   "cell_type": "markdown",
   "metadata": {},
   "source": [
    "# Problem 3: \n",
    "\n",
    "### Problem Statement: Plot a time-voltage graph using matplotlib by generating time values using numpy package"
   ]
  },
  {
   "cell_type": "code",
   "execution_count": 4,
   "metadata": {},
   "outputs": [
    {
     "data": {
      "image/png": "[encoded data removed]",
      "text/plain": [
       "<Figure size 432x288 with 1 Axes>"
      ]
     },
     "metadata": {
      "needs_background": "light"
     },
     "output_type": "display_data"
    }
   ],
   "source": [
    "import numpy as np\n",
    "\n",
    "t = np.arange(0.0, 2.0, 0.1)\n",
    "v = 1 + np.sin(2 * np.pi * t)\n",
    "plt.plot(t, v)\n",
    "plt.xlabel('Time')\n",
    "plt.ylabel('Voltage')\n",
    "plt.grid(True)\n",
    "plt.savefig('Figures/time-voltage.png')\n",
    "plt.show()"
   ]
  },
  {
   "cell_type": "markdown",
   "metadata": {},
   "source": [
    "#  "
   ]
  },
  {
   "cell_type": "markdown",
   "metadata": {},
   "source": [
    "# Problem 4: \n",
    "\n",
    "### Problem Statement: Plot a line graph on income vs. year for the state of California"
   ]
  },
  {
   "cell_type": "code",
   "execution_count": 5,
   "metadata": {},
   "outputs": [],
   "source": [
    "df = pd.read_csv('DataFiles/Income.csv')\n",
    "y = df.values[3]\n",
    "x = df.columns"
   ]
  },
  {
   "cell_type": "code",
   "execution_count": 6,
   "metadata": {},
   "outputs": [
    {
     "data": {
      "image/png": "[encoded data removed]",
      "text/plain": [
       "<Figure size 432x288 with 1 Axes>"
      ]
     },
     "metadata": {
      "needs_background": "light"
     },
     "output_type": "display_data"
    }
   ],
   "source": [
    "year = []\n",
    "for i in range(2, len(x)):\n",
    "    year.append(x[i])\n",
    "    \n",
    "income = []\n",
    "for i in range(2, len(y)):\n",
    "    income.append(y[i])\n",
    "plt.title('Income of California State')    \n",
    "plt.plot(year, income)\n",
    "plt.xlabel('Year')\n",
    "plt.ylabel('Income')\n",
    "plt.savefig('Figures/income-year.png')\n",
    "plt.grid(True)\n",
    "plt.show()"
   ]
  },
  {
   "cell_type": "markdown",
   "metadata": {},
   "source": [
    "#  "
   ]
  },
  {
   "cell_type": "markdown",
   "metadata": {},
   "source": [
    "# Problem 5: \n",
    "\n",
    "### Problem Statement: Plot a bar graph on income vs. year for the state of California"
   ]
  },
  {
   "cell_type": "code",
   "execution_count": 7,
   "metadata": {},
   "outputs": [
    {
     "data": {
      "image/png": "[encoded data removed]",
      "text/plain": [
       "<Figure size 432x288 with 1 Axes>"
      ]
     },
     "metadata": {
      "needs_background": "light"
     },
     "output_type": "display_data"
    }
   ],
   "source": [
    "width = 1/2.5\n",
    "plt.title('Income of California')\n",
    "plt.bar(year, income, width, color = 'gray')\n",
    "plt.savefig('Figures/income-year(bar graph).png')"
   ]
  },
  {
   "cell_type": "markdown",
   "metadata": {},
   "source": [
    "#  "
   ]
  },
  {
   "cell_type": "markdown",
   "metadata": {},
   "source": [
    "# Problem 6: \n",
    "\n",
    "### Problem Statement: Generate a Scatter Plot for 50 random numbers"
   ]
  },
  {
   "cell_type": "code",
   "execution_count": 8,
   "metadata": {},
   "outputs": [
    {
     "data": {
      "image/png": "[encoded data removed]",
      "text/plain": [
       "<Figure size 432x288 with 1 Axes>"
      ]
     },
     "metadata": {
      "needs_background": "light"
     },
     "output_type": "display_data"
    }
   ],
   "source": [
    "n = 50\n",
    "x = np.random.rand(n)  # list of 50 random numbers\n",
    "y = np.random.rand(n)  # list of 50 random numbers\n",
    "color = np.random.rand(n)  # list of random colors -- each number is associated with a color\n",
    "area = np.pi * (17.8 * np.random.rand(n)) ** 2  # list of random areas of circles wiht 17.8px\n",
    "plt.scatter(x, y, s = area, c = color, alpha = 0.7)\n",
    "plt.savefig('Figures/Scatter Plot.png')\n",
    "plt.show()"
   ]
  },
  {
   "cell_type": "markdown",
   "metadata": {},
   "source": [
    "#  "
   ]
  },
  {
   "cell_type": "markdown",
   "metadata": {},
   "source": [
    "# Problem 7: \n",
    "\n",
    "### Problem Statement: Generate a Piechart"
   ]
  },
  {
   "cell_type": "code",
   "execution_count": 9,
   "metadata": {},
   "outputs": [
    {
     "data": {
      "image/png": "[encoded data removed]",
      "text/plain": [
       "<Figure size 432x288 with 1 Axes>"
      ]
     },
     "metadata": {},
     "output_type": "display_data"
    }
   ],
   "source": [
    "import timeit\n",
    "\n",
    "def generateMarksReportCSV(MarksFileCSV):\n",
    "    start = timeit.default_timer()\n",
    "    marks, dist, first, second, third, fail = [], [], [], [], [], []\n",
    "    \n",
    "    df = pd.read_csv(MarksFileCSV)\n",
    "    for i in df.values:\n",
    "         marks.append(i[1])\n",
    "                       \n",
    "    min_m = min(marks) \n",
    "    max_m = max(marks)\n",
    "    avg_m = (min_m + max_m)/2\n",
    "    \n",
    "    for i in range(0, len(marks)):\n",
    "        if marks[i] >= 80:\n",
    "            dist.append(marks[i])\n",
    "        elif marks[i] >= 60 and marks[i] < 80 :\n",
    "            first.append(marks[i])\n",
    "        elif marks[i] >= 50 and marks[i] < 60:\n",
    "            second.append(marks[i])\n",
    "        elif marks[i] >= 40 and marks[i] < 50:\n",
    "            third.append(marks[i])\n",
    "        else:\n",
    "            fail.append(marks[i])\n",
    "    \n",
    "    \n",
    "    # plotted counter-clockwise in order:\n",
    "    labels = 'Distinction', 'First Class', 'Second Class', 'Third Class', 'Fail'\n",
    "    students = [len(dist), len(first), len(second), len(third), len(fail)]\n",
    "    explode = (0.1, 0, 0, 0, 0) \n",
    "\n",
    "    fig1, ax1 = plt.subplots()\n",
    "    ax1.pie(students, explode=explode, labels=labels, autopct='%1.2f%%',\n",
    "            shadow=True, startangle=90)\n",
    "    ax1.axis('equal') \n",
    "    plt.show()\n",
    "    \n",
    "    return \n",
    "            \n",
    "generateMarksReportCSV('DataFiles/MarksFile.csv')"
   ]
  }
 ],
 "metadata": {
  "kernelspec": {
   "display_name": "Python 3",
   "language": "python",
   "name": "python3"
  },
  "language_info": {
   "codemirror_mode": {
    "name": "ipython",
    "version": 3
   },
   "file_extension": ".py",
   "mimetype": "text/x-python",
   "name": "python",
   "nbconvert_exporter": "python",
   "pygments_lexer": "ipython3",
   "version": "3.7.3"
  }
 },
 "nbformat": 4,
 "nbformat_minor": 2
}
