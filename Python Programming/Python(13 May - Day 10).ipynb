{
 "cells": [
  {
   "cell_type": "markdown",
   "metadata": {},
   "source": [
    "# Programming and Problem Solving\n",
    "### Day No - 10\n",
    "### Date - 13 May 2019"
   ]
  },
  {
   "cell_type": "markdown",
   "metadata": {},
   "source": [
    "# Day Outcomes\n",
    "1. To understand subsets of a set"
   ]
  },
  {
   "cell_type": "markdown",
   "metadata": {},
   "source": [
    "#  "
   ]
  },
  {
   "cell_type": "markdown",
   "metadata": {},
   "source": [
    "# Problem 1:\n",
    "### Problem Statement: Define a function that take an array of integers A, and an integer K and returns the longest possible sub-set of A i.e A' such that the sum of no two elements in A' is divisible by K.\n",
    "#### Constraints:\n",
    ">* First line in input contains the length of A and the integer K. Second line of input contains len(A) space-separated integers.\n",
    "* Output must contain the length of A' list\n",
    "\n",
    "#### Test cases:\n",
    ">* Sample Input :    4  3\n",
    "><p> 1 7 2 4</p>\n",
    ">* Sample Output : 3"
   ]
  },
  {
   "cell_type": "code",
   "execution_count": 53,
   "metadata": {},
   "outputs": [
    {
     "data": {
      "text/plain": [
       "3"
      ]
     },
     "execution_count": 53,
     "metadata": {},
     "output_type": "execute_result"
    }
   ],
   "source": [
    "def subSet(A, K):\n",
    "    list1 = []\n",
    "    sum = 0\n",
    "    for i in range(0, len(A)):\n",
    "        for j in range(i+1, len(A)):\n",
    "            if((A[i] + A[j]) % K != 0):\n",
    "                sum = A[i] + A[j]\n",
    "                list1.append(sum)\n",
    "            \n",
    "    #print(list1)\n",
    "    return(len(list1))\n",
    "    \n",
    "subSet([1, 7, 2, 4], 3)"
   ]
  }
 ],
 "metadata": {
  "kernelspec": {
   "display_name": "Python 3",
   "language": "python",
   "name": "python3"
  },
  "language_info": {
   "codemirror_mode": {
    "name": "ipython",
    "version": 3
   },
   "file_extension": ".py",
   "mimetype": "text/x-python",
   "name": "python",
   "nbconvert_exporter": "python",
   "pygments_lexer": "ipython3",
   "version": "3.7.3"
  }
 },
 "nbformat": 4,
 "nbformat_minor": 2
}
