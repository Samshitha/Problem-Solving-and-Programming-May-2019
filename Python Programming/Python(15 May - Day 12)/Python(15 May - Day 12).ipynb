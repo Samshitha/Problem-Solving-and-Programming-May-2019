{
 "cells": [
  {
   "cell_type": "markdown",
   "metadata": {},
   "source": [
    "# Programming and Problem Solving\n",
    "### Day No - 12\n",
    "### Date - 15 May 2019"
   ]
  },
  {
   "cell_type": "markdown",
   "metadata": {},
   "source": [
    "# Day Outcomes\n",
    "1. packages and modules\n",
    "2. regular expressions\n",
    "3. generators and iterators\n",
    "4. external libraries\n",
    "5. file handling/data processing"
   ]
  },
  {
   "cell_type": "markdown",
   "metadata": {},
   "source": [
    ">#####  Packages\n",
    "collection of python scripts or programs (.py)\n",
    ">##### Modules\n",
    "collection of python scripts\n",
    ">##### Sub Package\n",
    "package inside a package\n",
    ">##### Regular Expressions\n",
    "set of all possible values that satisfy a given pattern\n",
    ">><p>0123456789 --> [0-9] -- set of values form 0 to 9</p>\n",
    "    <p>abcd...z --> [a-z] -- set of all values from a to z</p>\n",
    "    <p>ABCD...Z --> [A-Z] -- set of values from A to Z</p>\n",
    "    <p>s* -- starting with s</p>\n",
    "    <p>^a...s$ -- starting with a and ending with s -- 3 characters in between</p>\n",
    ">##### Iterators\n",
    "Lists, Tuples, Strings\n",
    ">##### Generators"
   ]
  },
  {
   "cell_type": "markdown",
   "metadata": {},
   "source": [
    "### Packages, sub packages and modules"
   ]
  },
  {
   "cell_type": "code",
   "execution_count": 1,
   "metadata": {},
   "outputs": [
    {
     "data": {
      "text/plain": [
       "10"
      ]
     },
     "execution_count": 1,
     "metadata": {},
     "output_type": "execute_result"
    }
   ],
   "source": [
    "from PythonScripts.numericalFunctions import factorial\n",
    "from PythonScripts.numericalFunctions import sumN\n",
    "\n",
    "factorial(4)\n",
    "sumN(4)"
   ]
  },
  {
   "cell_type": "code",
   "execution_count": 2,
   "metadata": {},
   "outputs": [
    {
     "data": {
      "text/plain": [
       "15"
      ]
     },
     "execution_count": 2,
     "metadata": {},
     "output_type": "execute_result"
    }
   ],
   "source": [
    "from PythonScripts.numericalFunctions import sumN as s\n",
    "\n",
    "s(5)"
   ]
  },
  {
   "cell_type": "code",
   "execution_count": 3,
   "metadata": {},
   "outputs": [
    {
     "data": {
      "text/plain": [
       "1307674368000"
      ]
     },
     "execution_count": 3,
     "metadata": {},
     "output_type": "execute_result"
    }
   ],
   "source": [
    "import PythonScripts.numericalFunctions  as nf  # import packagename.modulename as aliasname\n",
    "\n",
    "nf.factorial(15) # aliasname.functionname\n",
    "#nf.sumN(10) # aliasname.functionname"
   ]
  },
  {
   "cell_type": "code",
   "execution_count": 4,
   "metadata": {},
   "outputs": [
    {
     "data": {
      "text/plain": [
       "55"
      ]
     },
     "execution_count": 4,
     "metadata": {},
     "output_type": "execute_result"
    }
   ],
   "source": [
    "import PythonScripts.numericalFunctions # import packagename.modulename\n",
    "\n",
    "PythonScripts.numericalFunctions.factorial(15) # packagename.modulename.functionname\n",
    "PythonScripts.numericalFunctions.sumN(10) # packagename.modulename.functionname"
   ]
  },
  {
   "cell_type": "code",
   "execution_count": 5,
   "metadata": {},
   "outputs": [
    {
     "data": {
      "text/plain": [
       "120"
      ]
     },
     "execution_count": 5,
     "metadata": {},
     "output_type": "execute_result"
    }
   ],
   "source": [
    "from PythonScripts.numericalFunctions import * # * as a  --> '*' imports all functions in that package \n",
    "                                                     # giving an example that\n",
    "                                                     # there will be a syntax error -- alias cannot \n",
    "                                                     # be given to multiple modules\n",
    "sumN(15) "
   ]
  },
  {
   "cell_type": "code",
   "execution_count": 6,
   "metadata": {},
   "outputs": [
    {
     "data": {
      "text/plain": [
       "120"
      ]
     },
     "execution_count": 6,
     "metadata": {},
     "output_type": "execute_result"
    }
   ],
   "source": [
    "from PythonScripts.numericalFunctions import * # * imports all functions in that package\n",
    "\n",
    "sumN(15)"
   ]
  },
  {
   "cell_type": "code",
   "execution_count": 7,
   "metadata": {},
   "outputs": [
    {
     "data": {
      "text/plain": [
       "'Pto'"
      ]
     },
     "execution_count": 7,
     "metadata": {},
     "output_type": "execute_result"
    }
   ],
   "source": [
    "from PythonScripts.strings.stringFunctions import alternateCharacters as ac  # from package.subpackage.module \n",
    "\n",
    "ac('Python')\n"
   ]
  },
  {
   "cell_type": "code",
   "execution_count": 8,
   "metadata": {},
   "outputs": [
    {
     "data": {
      "text/plain": [
       "'nhy'"
      ]
     },
     "execution_count": 8,
     "metadata": {},
     "output_type": "execute_result"
    }
   ],
   "source": [
    "from PythonScripts.strings.stringFunctions import *  # from package.subpackage.module \n",
    "\n",
    "reverseAlternate('Python')"
   ]
  },
  {
   "cell_type": "code",
   "execution_count": 9,
   "metadata": {},
   "outputs": [
    {
     "data": {
      "text/plain": [
       "123"
      ]
     },
     "execution_count": 9,
     "metadata": {},
     "output_type": "execute_result"
    }
   ],
   "source": [
    "import math \n",
    "\n",
    "math.ceil(123.999)\n",
    "math.floor(123.999)"
   ]
  },
  {
   "cell_type": "markdown",
   "metadata": {},
   "source": [
    "### RegEx - Regular Expressions"
   ]
  },
  {
   "cell_type": "code",
   "execution_count": 10,
   "metadata": {},
   "outputs": [
    {
     "name": "stdout",
     "output_type": "stream",
     "text": [
      "successful\n",
      "unsuccessful\n"
     ]
    }
   ],
   "source": [
    "import re\n",
    "\n",
    "pattern = '^a...s$'\n",
    "test = 'abyss'\n",
    "result = re.match(pattern, test)\n",
    "if result:\n",
    "    print(\"successful\")\n",
    "print(\"unsuccessful\")"
   ]
  },
  {
   "cell_type": "code",
   "execution_count": 11,
   "metadata": {},
   "outputs": [
    {
     "name": "stdout",
     "output_type": "stream",
     "text": [
      "fail\n"
     ]
    }
   ],
   "source": [
    "pattern = '^gmail$'\n",
    "domain = 'gmaill'\n",
    "re.match(pattern, domain) # --> returns a match object\n",
    "\n",
    "if re.match(pattern, domain):\n",
    "    print('success')\n",
    "else:\n",
    "    print('fail')"
   ]
  },
  {
   "cell_type": "code",
   "execution_count": 12,
   "metadata": {},
   "outputs": [
    {
     "name": "stdout",
     "output_type": "stream",
     "text": [
      "success\n"
     ]
    }
   ],
   "source": [
    "pattern = '^[a-z]{3,16}'  # number of times the pattern is to be repeated must be in {} braces\n",
    "domain = 'gmailgmail'\n",
    "re.match(pattern, domain) # --> returns a match object\n",
    "\n",
    "if re.match(pattern, domain):\n",
    "    print('success')\n",
    "else:\n",
    "    print('fail')"
   ]
  },
  {
   "cell_type": "code",
   "execution_count": 13,
   "metadata": {},
   "outputs": [
    {
     "name": "stdout",
     "output_type": "stream",
     "text": [
      "success\n"
     ]
    }
   ],
   "source": [
    "# validate a postal code\n",
    "\n",
    "postal_pattern = '^[1-9][0-9]{5}$'\n",
    "postal_code = '877566'\n",
    "if re.match(postal_pattern, postal_code):\n",
    "    print('success')\n",
    "else:\n",
    "    print('fail')"
   ]
  },
  {
   "cell_type": "code",
   "execution_count": 14,
   "metadata": {},
   "outputs": [
    {
     "name": "stdout",
     "output_type": "stream",
     "text": [
      "success\n"
     ]
    }
   ],
   "source": [
    "# validate a phone number\n",
    "\n",
    "phone_pattern = '^[6-9][0-9]{9}$'\n",
    "phone_number = '7786888666'\n",
    "if re.match(phone_pattern, phone_number):\n",
    "    print('success')\n",
    "else:\n",
    "    print('fail')"
   ]
  },
  {
   "cell_type": "code",
   "execution_count": 15,
   "metadata": {},
   "outputs": [
    {
     "name": "stdout",
     "output_type": "stream",
     "text": [
      "success\n"
     ]
    }
   ],
   "source": [
    "# validate an indian phone number\n",
    "\n",
    "phone_pattern = '^[+][9][1][ -/][6-9][0-9]{9}$'\n",
    "phone_number = '+91-7786888666'\n",
    "\n",
    "if re.match(phone_pattern, phone_number):\n",
    "    print('success')\n",
    "else:\n",
    "    print('fail')"
   ]
  },
  {
   "cell_type": "code",
   "execution_count": 16,
   "metadata": {},
   "outputs": [
    {
     "name": "stdout",
     "output_type": "stream",
     "text": [
      "success\n"
     ]
    }
   ],
   "source": [
    "# validate an email address\n",
    "\n",
    "email_pattern = '^[a-z][a-z.0-9_-]{5,13}[a-z0-9][@][0-9a-z]{3,9}[.][a-z]{2,3}$'\n",
    "email_address = 'python.py@gmail.com'\n",
    "\n",
    "if re.match(email_pattern, email_address):\n",
    "    print('success')\n",
    "else:\n",
    "    print('fail')"
   ]
  },
  {
   "cell_type": "code",
   "execution_count": 23,
   "metadata": {},
   "outputs": [
    {
     "name": "stdout",
     "output_type": "stream",
     "text": [
      "success\n"
     ]
    }
   ],
   "source": [
    "# validate a password\n",
    "    #--should contain atleast one uppercase letter\n",
    "    #--should have password length in the range (6,20)\n",
    "    #--should contain atleast one special character\n",
    "    #--should start with uppercase or lowercase\n",
    "    #--should contain atleast one digit\n",
    "    #--should not match username\n",
    "    \n",
    "pass_pattern = '^(?=.*[a-z])(?=.*[A-Z])(?=.*[0-9])(?=.*[!@#$%^&*()_+=?]).{6,20}$'\n",
    "password = 'ptDo@35gf126'\n",
    "if re.match(pass_pattern, password):\n",
    "    print('success')\n",
    "else:\n",
    "    print('fail')"
   ]
  },
  {
   "cell_type": "markdown",
   "metadata": {},
   "source": [
    "### Iterators"
   ]
  },
  {
   "cell_type": "code",
   "execution_count": null,
   "metadata": {},
   "outputs": [],
   "source": [
    "li = [1, 2, 3, 4, 5, 6]\n",
    "\n",
    "for i in li:\n",
    "    print(i, end = ' ')\n",
    "    \n",
    "type(li)\n",
    "it = iter(li)\n",
    "type(it)\n",
    "\n",
    "for i in it:\n",
    "    print(i)"
   ]
  },
  {
   "cell_type": "markdown",
   "metadata": {},
   "source": [
    "### Generators"
   ]
  },
  {
   "cell_type": "code",
   "execution_count": null,
   "metadata": {},
   "outputs": [],
   "source": [
    "list1 = [i for i in range(1,10)]\n",
    "list1\n",
    "\n",
    "gen = (i**3 for i in range(1,11))\n",
    "for i in gen:\n",
    "    print(i, end = ' ')\n",
    "    \n",
    "[i**2 for i in list1]"
   ]
  }
 ],
 "metadata": {
  "kernelspec": {
   "display_name": "Python 3",
   "language": "python",
   "name": "python3"
  },
  "language_info": {
   "codemirror_mode": {
    "name": "ipython",
    "version": 3
   },
   "file_extension": ".py",
   "mimetype": "text/x-python",
   "name": "python",
   "nbconvert_exporter": "python",
   "pygments_lexer": "ipython3",
   "version": "3.7.3"
  }
 },
 "nbformat": 4,
 "nbformat_minor": 2
}
