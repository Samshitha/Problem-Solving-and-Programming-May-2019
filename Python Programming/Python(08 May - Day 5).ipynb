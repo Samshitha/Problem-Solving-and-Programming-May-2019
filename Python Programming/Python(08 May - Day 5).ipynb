{
 "cells": [
  {
   "cell_type": "markdown",
   "metadata": {},
   "source": [
    "# Programming and Problem Solving\n",
    "## Day No - 5\n",
    "## Date - 08 May 2019"
   ]
  },
  {
   "cell_type": "markdown",
   "metadata": {},
   "source": [
    "#  Day Outcome\n",
    "To solve basic problems using conditional statements"
   ]
  },
  {
   "cell_type": "markdown",
   "metadata": {},
   "source": [
    "#  "
   ]
  },
  {
   "cell_type": "markdown",
   "metadata": {},
   "source": [
    "# Problem 1:\n",
    "#### Problem Statement: \n",
    "Testing Divisibility with 2 and 3 but not 4 for a given number using Procedures\n",
    "\n",
    "#### Constraints\n",
    "Given number will be in the range [1 to 1000000000]\n",
    "\n",
    "#### Test Cases\n",
    "* checkDivisibility(6) --> True\n",
    "* checkDivisibility(16) --> False\n",
    "* checkDivisibility(20) --> False\n",
    "\n"
   ]
  },
  {
   "cell_type": "code",
   "execution_count": 6,
   "metadata": {},
   "outputs": [
    {
     "data": {
      "text/plain": [
       "False"
      ]
     },
     "execution_count": 6,
     "metadata": {},
     "output_type": "execute_result"
    }
   ],
   "source": [
    "def checkDivisibility(n):\n",
    "    if(n % 2 == 0 and n % 3 == 0 and n % 4 != 0):\n",
    "        return True\n",
    "    else:\n",
    "        return False\n",
    "    \n",
    "checkDivisibility(20)"
   ]
  },
  {
   "cell_type": "markdown",
   "metadata": {},
   "source": [
    "# Problem 2:\n",
    "#### Problem Statement: \n",
    "Procedure to testing whether a number is even or odd\n",
    "\n",
    "#### Constraints\n",
    "Given number will be in the range [1 to 1000000000]\n",
    "\n",
    "#### Test Cases\n",
    "* evenOdd(6) --> True\n",
    "* evenOdd(17) --> False\n",
    "* evenOdd(20) --> True"
   ]
  },
  {
   "cell_type": "code",
   "execution_count": 5,
   "metadata": {},
   "outputs": [
    {
     "data": {
      "text/plain": [
       "False"
      ]
     },
     "execution_count": 5,
     "metadata": {},
     "output_type": "execute_result"
    }
   ],
   "source": [
    "def evenOdd(n):\n",
    "    if(n % 2 == 0):\n",
    "        return True\n",
    "    else:\n",
    "        return False\n",
    "    \n",
    "evenOdd(17)"
   ]
  },
  {
   "cell_type": "markdown",
   "metadata": {},
   "source": [
    "# Problem 3:\n",
    "#### Problem Statement: \n",
    "Procedure to find greatest of 3 numbers\n",
    "\n",
    "#### Constraints\n",
    "Given number will be in the range [1 to 1000000000]\n",
    "\n",
    "#### Test Cases\n",
    "* greatestOfThree(6, 10, 8) --> 10\n",
    "* greatestOfThree(10, 6, 8) --> 10\n",
    "* greatestOfThree(6, 8, 10) --> 10"
   ]
  },
  {
   "cell_type": "code",
   "execution_count": 7,
   "metadata": {},
   "outputs": [
    {
     "name": "stdout",
     "output_type": "stream",
     "text": [
      "10\n"
     ]
    }
   ],
   "source": [
    "def greatestOfThree(x, y, z):\n",
    "    if(x > y):\n",
    "        if(x > z):\n",
    "            print(x)\n",
    "        else:\n",
    "            print(z)\n",
    "    elif(y > z):\n",
    "        print(y)\n",
    "    else:\n",
    "        print(z)\n",
    "    \n",
    "greatestOfThree(6, 8, 10)"
   ]
  },
  {
   "cell_type": "markdown",
   "metadata": {},
   "source": [
    "# Problem 4:\n",
    "#### Problem Statement: \n",
    "Procedure to find greatest of 2 numbers\n",
    "\n",
    "#### Constraints\n",
    "Given number will be in the range [1 to 1000000000]\n",
    "\n",
    "#### Test Cases\n",
    "* greatestOfTwo(6, 8) --> 8\n",
    "* greatestOfTwo(8, 6) --> 8"
   ]
  },
  {
   "cell_type": "code",
   "execution_count": 8,
   "metadata": {},
   "outputs": [
    {
     "name": "stdout",
     "output_type": "stream",
     "text": [
      "8\n"
     ]
    }
   ],
   "source": [
    "def greatestOfTwo(x, y):\n",
    "    if(x > y):\n",
    "        print(x)\n",
    "    else:\n",
    "        print(y)\n",
    "\n",
    "greatestOfTwo(6, 8)"
   ]
  },
  {
   "cell_type": "code",
   "execution_count": null,
   "metadata": {},
   "outputs": [],
   "source": []
  }
 ],
 "metadata": {
  "kernelspec": {
   "display_name": "Python 3",
   "language": "python",
   "name": "python3"
  },
  "language_info": {
   "codemirror_mode": {
    "name": "ipython",
    "version": 3
   },
   "file_extension": ".py",
   "mimetype": "text/x-python",
   "name": "python",
   "nbconvert_exporter": "python",
   "pygments_lexer": "ipython3",
   "version": "3.7.3"
  }
 },
 "nbformat": 4,
 "nbformat_minor": 2
}
